{
  "cells": [
    {
      "metadata": {
        "collapsed": true,
        "_cell_guid": "a0bacebd-f81a-492b-8915-372baa533546",
        "_uuid": "235da3525d9c08fb850482782c51fdc8fbc02113",
        "trusted": false
      },
      "cell_type": "code",
      "source": "import numpy as np # linear algebra\nimport pandas as pd # data processing, CSV file I/O (e.g. pd.read_csv)\nfrom sklearn.metrics import confusion_matrix\nfrom sklearn.metrics import recall_score, precision_score\nfrom sklearn.model_selection import cross_val_score\nfrom sklearn.model_selection import cross_val_predict\nimport seaborn as sns\nimport matplotlib.pyplot as plt",
      "execution_count": null,
      "outputs": []
    },
    {
      "metadata": {
        "_cell_guid": "fd2cfc4a-631a-447a-90e8-1f4f23dab930",
        "_uuid": "54a59708fa5a83213aca9e09acb0a715d08ba807",
        "trusted": false
      },
      "cell_type": "code",
      "source": "#load data\ntrain = pd.read_csv('../input/train.csv')\ntest = pd.read_csv('../input/test.csv')\ntrain.head()",
      "execution_count": null,
      "outputs": []
    },
    {
      "metadata": {
        "_cell_guid": "523869c1-89d4-4235-9406-830619c556fd",
        "_uuid": "5cca22318f192b800af666c0b93a5944a326c953",
        "trusted": false
      },
      "cell_type": "code",
      "source": "train.describe()",
      "execution_count": null,
      "outputs": []
    },
    {
      "metadata": {
        "_cell_guid": "0fead54a-bd61-4816-8823-b9aef034c3d0",
        "_uuid": "d2006cca891cc01fe80a08bad7cc7a96bfddad27"
      },
      "cell_type": "markdown",
      "source": "Only 38% of people have been survived in the disaster and average age is 30 years old. "
    },
    {
      "metadata": {
        "_cell_guid": "e686c9f0-6123-45a4-874a-817541b39351",
        "_uuid": "4c1010888763ef76d68bae5b42b6560d979727b9"
      },
      "cell_type": "markdown",
      "source": "# Data exploration, data cleaning and feature engineering"
    },
    {
      "metadata": {
        "_cell_guid": "d31ef446-342a-400b-b006-6d9c80201119",
        "_uuid": "575d7d35e4f3e0bd49bd01cd54d60695b2d8a02b",
        "trusted": false
      },
      "cell_type": "code",
      "source": "train.info()\nprint('***************************')\ntest.info()",
      "execution_count": null,
      "outputs": []
    },
    {
      "metadata": {
        "collapsed": true,
        "_cell_guid": "771cbc92-f964-463d-8582-28b506bb721e",
        "_uuid": "329eb1b3317a1f3b89e9aa4e5f37bfec48d1bdad",
        "trusted": false
      },
      "cell_type": "code",
      "source": "# Feature engineering regarding names.\nwords = [\"Mr.\", \"Mrs.\", \"Miss.\", \"Capt.\",\"Col.\", \"Major.\", \"Jonkheer.\", \"Don.\", 'Sir.', \"Dr.\", \"Rev.\", \"the Countess.\", \"Dona\", \"Mme\", \"Mlle\", \"Ms\",  \"Master\", \"Lady\"]\ntrain['Name'] = [' '.join(w for w in t.split() if w in words) for t in train['Name']]\ntest['Name'] = [' '.join(w for w in t.split() if w in words) for t in test['Name']]",
      "execution_count": null,
      "outputs": []
    },
    {
      "metadata": {
        "_cell_guid": "0e7141fc-9003-4093-a846-9f56f0affa81",
        "_uuid": "0348d3a39a339c4b1eacd578a06dbf6d429d8612",
        "trusted": false
      },
      "cell_type": "code",
      "source": "train['Name'][:5]",
      "execution_count": null,
      "outputs": []
    },
    {
      "metadata": {
        "collapsed": true,
        "_cell_guid": "44b9cb16-7e58-4bb2-a8be-dc454ea0fdc2",
        "_uuid": "3bb0a4a65a95f18726795b42cc47d850479ccc1c",
        "trusted": false
      },
      "cell_type": "code",
      "source": "Title_Dictionary = {\n                        \"Capt.\":       \"Officer\",\n                        \"Col.\":        \"Officer\",\n                        \"Major.\":      \"Officer\",\n                        \"Jonkheer.\":   \"Royalty\",\n                        \"Don.\":        \"Royalty\",\n                        \"Sir.\" :       \"Royalty\",\n                        \"Dr.\":         \"Officer\",\n                        \"Rev.\":        \"Officer\",\n                        \"the Countess.\":\"Royalty\",\n                        \"Dona.\":       \"Royalty\",\n                        \"Mme.\":        \"Mrs\",\n                        \"Mlle.\":       \"Miss\",\n                        \"Ms.\":         \"Mrs\",\n                        \"Mr.\" :        \"Mr\",\n                        \"Mrs.\" :       \"Mrs\",\n                        \"Miss.\" :      \"Miss\",\n                        \"Master.\" :    \"Master\",\n                        \"Lady.\" :      \"Royalty\"\n\n                        }",
      "execution_count": null,
      "outputs": []
    },
    {
      "metadata": {
        "_cell_guid": "e2404314-9446-4e8e-9994-bf8901040cb6",
        "_uuid": "d9572e2c6ea836560355088831a4f647789881b1",
        "trusted": false
      },
      "cell_type": "code",
      "source": "newfeature= train['Name'].map(Title_Dictionary)\nnewfeature_test = test['Name'].map(Title_Dictionary)\nnewfeature.value_counts()",
      "execution_count": null,
      "outputs": []
    },
    {
      "metadata": {
        "_cell_guid": "6479b84b-46bf-483a-aee2-e7dfc96c04da",
        "_uuid": "d0cfbc4e98e49cf793982e66f4f844f055e8ad2b",
        "trusted": false
      },
      "cell_type": "code",
      "source": "sns.barplot(x=newfeature, y ='Survived', data=train)",
      "execution_count": null,
      "outputs": []
    },
    {
      "metadata": {
        "_cell_guid": "2d5eee9d-7737-49d4-92df-d77650106072",
        "_uuid": "7aad649dd04579d0f45405e4df0de821d321a781",
        "trusted": false
      },
      "cell_type": "code",
      "source": "titles_dummy = pd.get_dummies(newfeature, prefix='Title')\ntrain = pd.concat([train, titles_dummy], axis=1)\ntitles_dummy_test = pd.get_dummies(newfeature_test, prefix='Title')\ntest = pd.concat([test, titles_dummy_test], axis=1)\ntrain.drop('Name',axis=1,inplace=True)\ntest.drop('Name',axis=1,inplace=True)\ntrain.head()",
      "execution_count": null,
      "outputs": []
    },
    {
      "metadata": {
        "_cell_guid": "a4258658-b475-4bc6-ac6a-c60d89e6693e",
        "_uuid": "c530a4e09efdb4211738397c443cf0b015c97139"
      },
      "cell_type": "markdown",
      "source": "The, Age, Cabin and Embarked attributes have some missing values (less than 891 in trainin data and  less than 418 in test data). Because Cabin does not have impact in the prediction lets ignore it and focus on Age and Embarked."
    },
    {
      "metadata": {
        "_cell_guid": "fe5769b1-0deb-4552-a7de-857157f7ce2c",
        "_uuid": "76aec488ed991c4e1eafaad2c267691222f98e07",
        "trusted": false
      },
      "cell_type": "code",
      "source": "# Sex (label encoding) and plot\ntrain['Sex'] = train['Sex'].map({'female': 0, 'male': 1}).astype(int)\ntest['Sex'] = test['Sex'].map({'female': 0, 'male': 1}).astype(int)\ntest['Sex'].value_counts()\nfig, axis1= plt.subplots(figsize=(8,3))\nsns.countplot(x='Sex', data=train, ax=axis1)",
      "execution_count": null,
      "outputs": []
    },
    {
      "metadata": {
        "_cell_guid": "6d66f918-b021-4159-bd58-98cb90e81f2e",
        "_uuid": "3853f0628ca676c77679bb3cbc008a7b645b4a4d",
        "trusted": false
      },
      "cell_type": "code",
      "source": "sns.barplot(x='Sex', y ='Survived', data=train)",
      "execution_count": null,
      "outputs": []
    },
    {
      "metadata": {
        "_cell_guid": "122769e5-eeb0-4604-b7f8-e588076cbb95",
        "_uuid": "fdf7b35f9d2d3e2826e8239b46b9e3bff61bda7b"
      },
      "cell_type": "markdown",
      "source": "Although the number of male is more than  the number of  female, it is observed that much more portion of female have been survived."
    },
    {
      "metadata": {
        "_cell_guid": "1b74e368-8166-418e-aa09-b035ab5a1157",
        "_uuid": "82591cec9f33a3404c9aba8aada3b98a89cccbac",
        "trusted": false
      },
      "cell_type": "code",
      "source": "#Embarked\n\nembark = train['Embarked'].fillna('S')\ntrain['Embarked'] = embark.map({'S': 1, 'C': 2, 'Q': 3}).astype(int)\ntest['Embarked'] = embark.map({'S': 1, 'C': 2, 'Q': 3}).astype(int)\nsns.barplot(x='Embarked', y ='Survived', data=train)",
      "execution_count": null,
      "outputs": []
    },
    {
      "metadata": {
        "_cell_guid": "800796b3-c0c6-49e7-8a04-3a29bd253e10",
        "_uuid": "0a331fbda285cbe55a7eb857c7c506237963b3ae"
      },
      "cell_type": "markdown",
      "source": "Number of survivals boarded from port C  is more than others."
    },
    {
      "metadata": {
        "collapsed": true,
        "_cell_guid": "3093f285-db97-41c1-a989-79709e6cee2b",
        "_uuid": "a1120066980c99cf8fc1d73c4c8073a72ad6d11a",
        "trusted": false
      },
      "cell_type": "code",
      "source": "# Age\n# handling with missing values\ntrain['Age'] = train['Age'].fillna(train['Age'].median()).astype(int)\ntest['Age'] = test['Age'].fillna(train['Age'].median()).astype(int)",
      "execution_count": null,
      "outputs": []
    },
    {
      "metadata": {
        "_cell_guid": "cbe8426f-2daf-4ad5-9859-ba4145448fe5",
        "_uuid": "3cb9e0232017dd12e045822f73bca8a588b1b6bb",
        "trusted": false
      },
      "cell_type": "code",
      "source": "train['Age'].hist()",
      "execution_count": null,
      "outputs": []
    },
    {
      "metadata": {
        "_cell_guid": "459534c2-2203-4e58-a636-05b4800189d6",
        "_uuid": "0d6ff38e9f917e9c2a65f02a59b93d167f45c3c5",
        "trusted": false
      },
      "cell_type": "code",
      "source": "fig, axis1 = plt.subplots(1,1,figsize=(18,4))\nder_data = train[['Age', 'Survived']].groupby(['Age'], as_index = False).mean()\nsns.barplot(x='Age', y ='Survived', data = der_data)",
      "execution_count": null,
      "outputs": []
    },
    {
      "metadata": {
        "_cell_guid": "c2a871c8-a54a-4d16-b5e1-306bd6b21c05",
        "_uuid": "83689f46c4139c7c8247df45345384d465c3287e",
        "trusted": false
      },
      "cell_type": "code",
      "source": "Embarked_dummy = pd.get_dummies(train['Embarked'], prefix= 'Embarked')\ntrain = pd.concat([train, Embarked_dummy], axis= 1)\nEmbarked_dummy_test = pd.get_dummies(test['Embarked'], prefix= 'Embarked')\ntest = pd.concat([test, Embarked_dummy_test], axis= 1)\ntrain.drop('Embarked', axis=1,inplace=True)\ntest.drop('Embarked', axis=1,inplace=True)\ntrain.head()",
      "execution_count": null,
      "outputs": []
    },
    {
      "metadata": {
        "_cell_guid": "42b27f7f-7550-4cc8-af8d-7d40abca1cb5",
        "_uuid": "d6e7d9b302e3b669c03526cbb6daf90cd7bee53d",
        "trusted": false
      },
      "cell_type": "code",
      "source": "#lets replace Parch and SibSp with their sum\ntrain['Relativesinship'] = train['SibSp'] + train['Parch']\ntest['Relativesinship'] = test['SibSp'] + test['Parch']\ntrain[['Relativesinship', 'Survived']].groupby(['Relativesinship']).mean()",
      "execution_count": null,
      "outputs": []
    },
    {
      "metadata": {
        "collapsed": true,
        "_cell_guid": "edbd4133-6aa5-4aba-a04a-7c38333abcf9",
        "_uuid": "c8eba402cbc44cd505974f794140d0bba561ffed",
        "trusted": false
      },
      "cell_type": "code",
      "source": "# only in test set fare feature has missing values\ntest['Fare'].fillna(test['Fare'].median(), inplace = True)",
      "execution_count": null,
      "outputs": []
    },
    {
      "metadata": {
        "collapsed": true,
        "_cell_guid": "3c1aaed0-4b78-469e-93e0-d52f633229bb",
        "_uuid": "e65082e2ee946efd98e610d41eb4d0d3a50847a9",
        "trusted": false
      },
      "cell_type": "code",
      "source": "# converting floatings to integers\ntrain['Fare'] = train['Fare'].astype(int)\ntest['Fare'] = test['Fare'].astype(int)",
      "execution_count": null,
      "outputs": []
    },
    {
      "metadata": {
        "collapsed": true,
        "_cell_guid": "ddc56d55-7e46-4016-8705-974ac9e35d85",
        "_uuid": "5ab883d65cc2596888e17f9e05491241fa7e49a4",
        "trusted": false
      },
      "cell_type": "code",
      "source": "train.drop('Ticket',axis=1,inplace=True)\ntrain.drop('Cabin',axis=1,inplace=True)",
      "execution_count": null,
      "outputs": []
    },
    {
      "metadata": {
        "collapsed": true,
        "_cell_guid": "48b01d40-e815-4bfd-ba0a-37f064a3e36a",
        "_uuid": "fa0e92eafc8256f143c7c4419e1600fbcc3483ed",
        "trusted": false
      },
      "cell_type": "code",
      "source": "def age_cat(age):\n    if age <= 16:\n        return 0\n    elif 16< age <=26:\n        return 1\n    elif 26< age <=36:\n        return 2\n    elif 36< age <=47:\n        return 3\n    elif 47 < age:\n        return 4\n    \ntrain['Age'] = train['Age'].apply(age_cat)\ntest['Age'] = test['Age'].apply(age_cat)",
      "execution_count": null,
      "outputs": []
    },
    {
      "metadata": {
        "_cell_guid": "94827562-ee4a-471f-9287-fc088274520f",
        "_uuid": "919055ca6f70c70320f76e307044688f16dc71b2",
        "trusted": false
      },
      "cell_type": "code",
      "source": "Age_dummy = pd.get_dummies(train['Age'], prefix= 'Age')\ntrain = pd.concat([train, Age_dummy], axis= 1)\nAge_dummy_test = pd.get_dummies(test['Age'], prefix= 'Age')\ntest = pd.concat([test, Age_dummy_test], axis= 1)\ntrain.drop('Age', axis=1, inplace=True)\ntest.drop('Age', axis=1, inplace=True)\ntrain.head()",
      "execution_count": null,
      "outputs": []
    },
    {
      "metadata": {
        "_cell_guid": "e3ce8998-09e8-4d58-a2a8-3c120f95b79c",
        "_uuid": "b53be27ad060bc86ae41c95820a3b6c1ab1e2659",
        "trusted": false
      },
      "cell_type": "code",
      "source": "test.info()",
      "execution_count": null,
      "outputs": []
    },
    {
      "metadata": {
        "collapsed": true,
        "_cell_guid": "4d8f8876-fff2-4975-a525-3f87b642c373",
        "scrolled": false,
        "_uuid": "ac582ac340207ad3cc455d3168bdb000475309d1",
        "trusted": false
      },
      "cell_type": "code",
      "source": "# defining predictor and target values for machine learning models\nX_train = train[['Pclass','Sex', 'Age_0','Age_1','Age_2', 'Age_3', 'Age_4', 'Relativesinship', 'Fare','Title_Miss', 'Title_Mr', 'Title_Mrs', 'Title_Officer', 'Embarked_1', 'Embarked_2', 'Embarked_3']]\ny_train = train[['Survived']]\nX_test = test[['Pclass','Sex', 'Age_0', 'Age_1', 'Age_2', 'Age_3', 'Age_4', 'Relativesinship', 'Fare','Title_Miss', 'Title_Mr', 'Title_Mrs', 'Title_Officer', 'Embarked_1', 'Embarked_2', 'Embarked_3']]\n\ncolumns = ['Pclass','Sex', 'Age_0','Age_1','Age_2', 'Age_3', 'Age_4', 'Relativesinship', 'Fare','Title_Miss', 'Title_Mr', 'Title_Mrs', 'Title_Officer', 'Embarked_1', 'Embarked_2', 'Embarked_3']\nX_train = X_train .reindex(columns= columns)\nX_test = X_test.reindex(columns= columns)\n\nX_train[columns] = X_train[columns].astype(int)\nX_test[columns] = X_test[columns].astype(int)",
      "execution_count": null,
      "outputs": []
    },
    {
      "metadata": {
        "_cell_guid": "7269baf1-bb4f-4cad-9631-e6f7abc7ffff",
        "_uuid": "23e324eeed50348ca5be91d488f744c0c10fdd07",
        "trusted": false
      },
      "cell_type": "code",
      "source": "X_train.info()",
      "execution_count": null,
      "outputs": []
    },
    {
      "metadata": {
        "_cell_guid": "535ff1f8-c302-42c0-b1cc-9296c8d48d06",
        "_uuid": "573fe99ca7cad4ae959786cc280a911c50cea525"
      },
      "cell_type": "markdown",
      "source": "# Machine learning models"
    },
    {
      "metadata": {
        "_cell_guid": "903cce5d-1514-4a5e-b8ca-c9a1b7c79687",
        "_uuid": "55dc2f1ebc4cb8c34766e6cc6fb85b315d3ace6e",
        "trusted": false
      },
      "cell_type": "code",
      "source": "#Stochastic Gradient Descend classification\nfrom sklearn.linear_model import SGDClassifier\n\nsgd_clf = SGDClassifier(max_iter=5, random_state=42)\nsgd_clf.fit(X_train, y_train)\ncross_clf_score = cross_val_score(sgd_clf, X_train, y_train, cv = 10, scoring = 'accuracy')\ncross_clf_score.mean()",
      "execution_count": null,
      "outputs": []
    },
    {
      "metadata": {
        "_cell_guid": "801f8ab9-d500-47eb-a9c1-361530fb3718",
        "_uuid": "ea6dea6e646533d86f08899aaeb0b6cb430d76b5",
        "trusted": false
      },
      "cell_type": "code",
      "source": "# Confusion matrix\ny_train_clf_pred = cross_val_predict(sgd_clf, X_train, y_train, cv=3)\nconfusion_matrix(y_train, y_train_clf_pred )",
      "execution_count": null,
      "outputs": []
    },
    {
      "metadata": {
        "_cell_guid": "0eaf9e9f-ccf5-49d1-9a12-f4c7ca753783",
        "_uuid": "6c3f9b4e84a05de0da38e6f5c976c5dffd483f93",
        "trusted": false
      },
      "cell_type": "code",
      "source": "#precision/recall score\nprint(precision_score(y_train, y_train_clf_pred ))\nprint(recall_score(y_train, y_train_clf_pred ))",
      "execution_count": null,
      "outputs": []
    },
    {
      "metadata": {
        "_cell_guid": "54c1e18c-856f-49fb-847b-959a9c2ca514",
        "_uuid": "b399bc8cfd3f847ae8775aea87479a7d1975a583",
        "trusted": false
      },
      "cell_type": "code",
      "source": "#Random Forest Classification\nfrom sklearn.ensemble import RandomForestClassifier\nforest_clf = RandomForestClassifier(random_state=42)\nforest_clf.fit(X_train, y_train)\ncross_forest_score = cross_val_score(forest_clf, X_train, y_train, cv = 10, scoring = 'accuracy')\ncross_forest_score.mean()",
      "execution_count": null,
      "outputs": []
    },
    {
      "metadata": {
        "_cell_guid": "8431f5ef-1c86-4e3d-a8e9-0bf699312842",
        "_uuid": "d6bdf8c16f38990bc6a040f6d2f8e0643fd33c4f",
        "trusted": false
      },
      "cell_type": "code",
      "source": "#precision/recall score\ny_train_pred_forest = cross_val_predict(forest_clf, X_train, y_train, cv = 3)\nprint('precision_score',precision_score(y_train, y_train_pred_forest))\nprint('recall_score',recall_score(y_train, y_train_pred_forest))",
      "execution_count": null,
      "outputs": []
    },
    {
      "metadata": {
        "_cell_guid": "4b1200ac-766c-49f0-a173-03d84aef2f78",
        "_uuid": "b67eebf472d3a60b6c04cfb6e72467a4666c1b1a",
        "trusted": false
      },
      "cell_type": "code",
      "source": "# K nearest classification\nfrom sklearn.neighbors import KNeighborsClassifier\nknn_clf = KNeighborsClassifier()\nknn_clf.fit(X_train, y_train)\ncross_knn_score = cross_val_score(knn_clf, X_train, y_train, cv = 10, scoring = 'accuracy')\ncross_knn_score.mean()",
      "execution_count": null,
      "outputs": []
    },
    {
      "metadata": {
        "_cell_guid": "e794c41e-0252-421d-86cc-56c3e6bd4f4c",
        "_uuid": "3bc03bb70308a4d75cd72dd1fecebb82420cca0a",
        "trusted": false
      },
      "cell_type": "code",
      "source": "#precision/recall score\ny_train_pred_knn = cross_val_predict(knn_clf, X_train, y_train, cv = 3)\nprint('precision_score',precision_score(y_train, y_train_pred_knn))\nprint('recall_score',recall_score(y_train, y_train_pred_knn))",
      "execution_count": null,
      "outputs": []
    },
    {
      "metadata": {
        "_cell_guid": "a0f84438-ba2b-4952-9e63-d7a225cff064",
        "_uuid": "2ae17f9be0d143d1bb37fac94922412afa2fe8ad",
        "trusted": false
      },
      "cell_type": "code",
      "source": "# Support vector machine classsification\nfrom sklearn.svm import SVC\nsvc_clf = SVC()\nsvc_clf.fit(X_train, y_train)\ncross_svc_score = cross_val_score(svc_clf, X_train, y_train, cv = 10, scoring = 'accuracy')\ncross_svc_score.mean()",
      "execution_count": null,
      "outputs": []
    },
    {
      "metadata": {
        "scrolled": true,
        "_cell_guid": "7b31e1bc-6185-46ab-839c-e0384de4e575",
        "_uuid": "946ef23ce9e07d83e246dbeef9cbfe3d55ab7e84",
        "trusted": false
      },
      "cell_type": "code",
      "source": "#precision/recall score\nsvc_clf_pred_train = cross_val_predict(svc_clf, X_train, y_train, cv = 3)\nprint('precision_score',precision_score(y_train, svc_clf_pred_train ))\nprint('recall_score',recall_score(y_train, svc_clf_pred_train ))",
      "execution_count": null,
      "outputs": []
    },
    {
      "metadata": {
        "scrolled": true,
        "_cell_guid": "378ebb24-1487-48c5-95ec-b775de948369",
        "_uuid": "e68565cf41b8a20ce822660ce0075bb32e91de85",
        "trusted": false
      },
      "cell_type": "code",
      "source": "y_test_pred = svc_clf.predict(X_test)\n\nsvc_clf.score(X_train, y_train)",
      "execution_count": null,
      "outputs": []
    },
    {
      "metadata": {
        "_cell_guid": "2462ada9-0d5d-48ee-b75b-470063e9af29",
        "_uuid": "c81b220fee45f5efbd5640809e67818d242659ad",
        "trusted": false
      },
      "cell_type": "code",
      "source": "#Plot confusion matrix\nconf_mx = confusion_matrix(y_train, svc_clf_pred_train )\nplt.matshow(conf_mx, cmap=plt.cm.Blues)",
      "execution_count": null,
      "outputs": []
    },
    {
      "metadata": {
        "collapsed": true,
        "_cell_guid": "41496d3b-db36-4bb3-af6d-de023cc40c22",
        "_uuid": "d0da9ec45fdee5b55bc893bbb3c21efe35c2efa9",
        "trusted": false
      },
      "cell_type": "code",
      "source": "mysubmission = pd.DataFrame({\n        \"PassengerId\": test[\"PassengerId\"],\n        \"Survived\": y_test_pred\n    })\nmysubmission.to_csv('titanic.csv', index=False)",
      "execution_count": null,
      "outputs": []
    }
  ],
  "metadata": {
    "kernelspec": {
      "display_name": "Python 3",
      "language": "python",
      "name": "python3"
    },
    "language_info": {
      "name": "python",
      "version": "3.6.6",
      "mimetype": "text/x-python",
      "codemirror_mode": {
        "name": "ipython",
        "version": 3
      },
      "pygments_lexer": "ipython3",
      "nbconvert_exporter": "python",
      "file_extension": ".py"
    }
  },
  "nbformat": 4,
  "nbformat_minor": 1
}